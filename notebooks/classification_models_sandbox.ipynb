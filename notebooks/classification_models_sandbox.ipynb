{
 "cells": [
  {
   "cell_type": "code",
   "execution_count": 1,
   "metadata": {},
   "outputs": [],
   "source": [
    "import torch\n",
    "import torch.nn as nn\n",
    "from torchvision import models"
   ]
  },
  {
   "cell_type": "code",
   "execution_count": 10,
   "metadata": {},
   "outputs": [],
   "source": [
    "img = torch.randn(2, 3, 256, 1600)"
   ]
  },
  {
   "cell_type": "code",
   "execution_count": 15,
   "metadata": {},
   "outputs": [],
   "source": [
    "_backbones = {\n",
    "    'densenet121': models.densenet121,\n",
    "    'densenet161': models.densenet161,\n",
    "    'densenet169': models.densenet169,\n",
    "    'densenet201': models.densenet201\n",
    "}\n",
    "\n",
    "\n",
    "class DenseNetDetector(nn.Module):\n",
    "    def __init__(self, backbone: str = 'densenet121', num_classes: int = 1):\n",
    "        super(DenseNetDetector, self).__init__()\n",
    "        backbone_model = _backbones[backbone]\n",
    "        self.model = backbone_model(pretrained=True)\n",
    "\n",
    "        classifier = nn.Sequential(\n",
    "            nn.Linear(self.model.classifier.in_features, 512),\n",
    "            nn.ReLU(True),\n",
    "            nn.BatchNorm1d(512),\n",
    "            nn.Linear(512, num_classes)\n",
    "        )\n",
    "\n",
    "        self.model.classifier = classifier\n",
    "\n",
    "    def forward(self, batch):\n",
    "        return self.model(batch)"
   ]
  },
  {
   "cell_type": "code",
   "execution_count": 16,
   "metadata": {},
   "outputs": [
    {
     "data": {
      "text/plain": [
       "tensor([[-0.0814],\n",
       "        [ 0.1579]], grad_fn=<AddmmBackward>)"
      ]
     },
     "execution_count": 16,
     "metadata": {},
     "output_type": "execute_result"
    }
   ],
   "source": [
    "m = DenseNetDetector(num_classes=1)\n",
    "m(img)"
   ]
  },
  {
   "cell_type": "code",
   "execution_count": 7,
   "metadata": {},
   "outputs": [
    {
     "data": {
      "text/plain": [
       "Linear(in_features=1024, out_features=1000, bias=True)"
      ]
     },
     "execution_count": 7,
     "metadata": {},
     "output_type": "execute_result"
    }
   ],
   "source": [
    "models.densenet121(pretrained=True).classifier"
   ]
  },
  {
   "cell_type": "code",
   "execution_count": null,
   "metadata": {},
   "outputs": [],
   "source": []
  }
 ],
 "metadata": {
  "kernelspec": {
   "display_name": "Python 3",
   "language": "python",
   "name": "python3"
  },
  "language_info": {
   "codemirror_mode": {
    "name": "ipython",
    "version": 3
   },
   "file_extension": ".py",
   "mimetype": "text/x-python",
   "name": "python",
   "nbconvert_exporter": "python",
   "pygments_lexer": "ipython3",
   "version": "3.7.3"
  }
 },
 "nbformat": 4,
 "nbformat_minor": 4
}
