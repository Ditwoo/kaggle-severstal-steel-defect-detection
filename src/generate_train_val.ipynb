{
 "cells": [
  {
   "cell_type": "code",
   "execution_count": 1,
   "metadata": {},
   "outputs": [],
   "source": [
    "import yaml\n",
    "import numpy as np\n",
    "import pandas as ps\n",
    "from pathlib import Path\n",
    "\n",
    "import matplotlib.pyplot as plt\n",
    "from skimage.io import imshow\n",
    "from sklearn.model_selection import train_test_split\n",
    "\n",
    "import warnings\n",
    "warnings.filterwarnings('ignore')\n",
    "\n",
    "%matplotlib inline"
   ]
  },
  {
   "cell_type": "code",
   "execution_count": 2,
   "metadata": {},
   "outputs": [
    {
     "data": {
      "text/html": [
       "<div>\n",
       "<style scoped>\n",
       "    .dataframe tbody tr th:only-of-type {\n",
       "        vertical-align: middle;\n",
       "    }\n",
       "\n",
       "    .dataframe tbody tr th {\n",
       "        vertical-align: top;\n",
       "    }\n",
       "\n",
       "    .dataframe thead th {\n",
       "        text-align: right;\n",
       "    }\n",
       "</style>\n",
       "<table border=\"1\" class=\"dataframe\">\n",
       "  <thead>\n",
       "    <tr style=\"text-align: right;\">\n",
       "      <th></th>\n",
       "      <th>ImageId_ClassId</th>\n",
       "      <th>EncodedPixels</th>\n",
       "    </tr>\n",
       "  </thead>\n",
       "  <tbody>\n",
       "    <tr>\n",
       "      <th>0</th>\n",
       "      <td>0002cc93b.jpg_1</td>\n",
       "      <td>29102 12 29346 24 29602 24 29858 24 30114 24 3...</td>\n",
       "    </tr>\n",
       "    <tr>\n",
       "      <th>1</th>\n",
       "      <td>0002cc93b.jpg_2</td>\n",
       "      <td>NaN</td>\n",
       "    </tr>\n",
       "    <tr>\n",
       "      <th>2</th>\n",
       "      <td>0002cc93b.jpg_3</td>\n",
       "      <td>NaN</td>\n",
       "    </tr>\n",
       "    <tr>\n",
       "      <th>3</th>\n",
       "      <td>0002cc93b.jpg_4</td>\n",
       "      <td>NaN</td>\n",
       "    </tr>\n",
       "    <tr>\n",
       "      <th>4</th>\n",
       "      <td>00031f466.jpg_1</td>\n",
       "      <td>NaN</td>\n",
       "    </tr>\n",
       "  </tbody>\n",
       "</table>\n",
       "</div>"
      ],
      "text/plain": [
       "   ImageId_ClassId                                      EncodedPixels\n",
       "0  0002cc93b.jpg_1  29102 12 29346 24 29602 24 29858 24 30114 24 3...\n",
       "1  0002cc93b.jpg_2                                                NaN\n",
       "2  0002cc93b.jpg_3                                                NaN\n",
       "3  0002cc93b.jpg_4                                                NaN\n",
       "4  00031f466.jpg_1                                                NaN"
      ]
     },
     "execution_count": 2,
     "metadata": {},
     "output_type": "execute_result"
    }
   ],
   "source": [
    "RANDOM_STATE = np.random.RandomState(seed=2019)\n",
    "DATA = ps.read_csv(Path('..') / 'data' / 'train.csv')\n",
    "DATA.head()"
   ]
  },
  {
   "cell_type": "code",
   "execution_count": 3,
   "metadata": {},
   "outputs": [
    {
     "name": "stdout",
     "output_type": "stream",
     "text": [
      "Image           object\n",
      "cls1            object\n",
      "cls2            object\n",
      "cls3            object\n",
      "cls4            object\n",
      "IsAllMissing      bool\n",
      "dtype: object\n"
     ]
    },
    {
     "data": {
      "text/html": [
       "<div>\n",
       "<style scoped>\n",
       "    .dataframe tbody tr th:only-of-type {\n",
       "        vertical-align: middle;\n",
       "    }\n",
       "\n",
       "    .dataframe tbody tr th {\n",
       "        vertical-align: top;\n",
       "    }\n",
       "\n",
       "    .dataframe thead th {\n",
       "        text-align: right;\n",
       "    }\n",
       "</style>\n",
       "<table border=\"1\" class=\"dataframe\">\n",
       "  <thead>\n",
       "    <tr style=\"text-align: right;\">\n",
       "      <th></th>\n",
       "      <th>Image</th>\n",
       "      <th>cls1</th>\n",
       "      <th>cls2</th>\n",
       "      <th>cls3</th>\n",
       "      <th>cls4</th>\n",
       "      <th>IsAllMissing</th>\n",
       "    </tr>\n",
       "  </thead>\n",
       "  <tbody>\n",
       "    <tr>\n",
       "      <th>0</th>\n",
       "      <td>/home/dmdr/Documents/Code/Python/kaggle/severs...</td>\n",
       "      <td>29102 12 29346 24 29602 24 29858 24 30114 24 3...</td>\n",
       "      <td>NaN</td>\n",
       "      <td>NaN</td>\n",
       "      <td>NaN</td>\n",
       "      <td>False</td>\n",
       "    </tr>\n",
       "    <tr>\n",
       "      <th>1</th>\n",
       "      <td>/home/dmdr/Documents/Code/Python/kaggle/severs...</td>\n",
       "      <td>NaN</td>\n",
       "      <td>NaN</td>\n",
       "      <td>NaN</td>\n",
       "      <td>NaN</td>\n",
       "      <td>True</td>\n",
       "    </tr>\n",
       "    <tr>\n",
       "      <th>2</th>\n",
       "      <td>/home/dmdr/Documents/Code/Python/kaggle/severs...</td>\n",
       "      <td>NaN</td>\n",
       "      <td>NaN</td>\n",
       "      <td>NaN</td>\n",
       "      <td>NaN</td>\n",
       "      <td>True</td>\n",
       "    </tr>\n",
       "    <tr>\n",
       "      <th>3</th>\n",
       "      <td>/home/dmdr/Documents/Code/Python/kaggle/severs...</td>\n",
       "      <td>NaN</td>\n",
       "      <td>NaN</td>\n",
       "      <td>NaN</td>\n",
       "      <td>NaN</td>\n",
       "      <td>True</td>\n",
       "    </tr>\n",
       "    <tr>\n",
       "      <th>4</th>\n",
       "      <td>/home/dmdr/Documents/Code/Python/kaggle/severs...</td>\n",
       "      <td>NaN</td>\n",
       "      <td>NaN</td>\n",
       "      <td>18661 28 18863 82 19091 110 19347 110 19603 11...</td>\n",
       "      <td>NaN</td>\n",
       "      <td>False</td>\n",
       "    </tr>\n",
       "  </tbody>\n",
       "</table>\n",
       "</div>"
      ],
      "text/plain": [
       "                                               Image  \\\n",
       "0  /home/dmdr/Documents/Code/Python/kaggle/severs...   \n",
       "1  /home/dmdr/Documents/Code/Python/kaggle/severs...   \n",
       "2  /home/dmdr/Documents/Code/Python/kaggle/severs...   \n",
       "3  /home/dmdr/Documents/Code/Python/kaggle/severs...   \n",
       "4  /home/dmdr/Documents/Code/Python/kaggle/severs...   \n",
       "\n",
       "                                                cls1 cls2  \\\n",
       "0  29102 12 29346 24 29602 24 29858 24 30114 24 3...  NaN   \n",
       "1                                                NaN  NaN   \n",
       "2                                                NaN  NaN   \n",
       "3                                                NaN  NaN   \n",
       "4                                                NaN  NaN   \n",
       "\n",
       "                                                cls3 cls4  IsAllMissing  \n",
       "0                                                NaN  NaN         False  \n",
       "1                                                NaN  NaN          True  \n",
       "2                                                NaN  NaN          True  \n",
       "3                                                NaN  NaN          True  \n",
       "4  18661 28 18863 82 19091 110 19347 110 19603 11...  NaN         False  "
      ]
     },
     "execution_count": 3,
     "metadata": {},
     "output_type": "execute_result"
    }
   ],
   "source": [
    "def combine_masks(df):\n",
    "    masks = [''] * 4\n",
    "    for idx in df.index:\n",
    "        masks[df.at[idx, 'ClassId']] = df.at[idx, 'EncodedPixels']\n",
    "    return ps.Series(masks, [f'cls{i}' for i in range(1, 5)])\n",
    "\n",
    "\n",
    "DATA['Image'] = DATA['ImageId_ClassId'].apply(lambda img_cls: img_cls.rsplit('_', 1)[0])\n",
    "DATA['ClassId'] = DATA['ImageId_ClassId'].apply(lambda img_cls: int(img_cls.rsplit('_', 1)[1]) - 1)\n",
    "# DATA = DATA[DATA['EncodedPixels'].notnull()].reset_index(drop=True)\n",
    "DATA = DATA.sort_values(['Image', 'ClassId'])\n",
    "DATA = DATA.groupby('Image').apply(combine_masks).reset_index()\n",
    "\n",
    "images_folder = Path('..') / 'data' / 'train_images'\n",
    "DATA['Image'] = DATA['Image'].apply(lambda img_path: (images_folder / img_path).resolve())\n",
    "DATA['IsAllMissing'] = DATA.apply(lambda row: all(row[f'cls{i}'] != row[f'cls{i}'] for i in range(1, 5)), axis=1)\n",
    "\n",
    "\n",
    "print(DATA.dtypes)\n",
    "\n",
    "DATA.head()"
   ]
  },
  {
   "cell_type": "markdown",
   "metadata": {},
   "source": [
    "# Segmentation\n",
    "\n",
    "## Train & Validation split"
   ]
  },
  {
   "cell_type": "code",
   "execution_count": 4,
   "metadata": {},
   "outputs": [],
   "source": [
    "def split_dataset(dataset: ps.DataFrame, \n",
    "                  validation_pcnt: float = .2,\n",
    "                  random_state: np.random.RandomState = np.random.RandomState(2019),\n",
    "                  how: str = 'sample'):\n",
    "    assert how in {'sample', 'split'}, '`how` should be one of `sample` or `split` '\n",
    "    \n",
    "    print(f'Input shapes - {dataset.shape}')\n",
    "    if how == 'sample':\n",
    "        train_set = dataset.copy()\n",
    "\n",
    "        validation_size = int(train_set.shape[0] * validation_pcnt)\n",
    "        validation_set = dataset.sample(validation_size, random_state=random_state)\n",
    "    else:\n",
    "        train_set, validation_set = train_test_split(\n",
    "            dataset, \n",
    "            test_size=validation_pcnt,\n",
    "            random_state=random_state,\n",
    "            stratify=dataset['IsAllMissing']\n",
    "        )\n",
    "    \n",
    "    print(f'Train shapes - {train_set.shape}')\n",
    "    print(f'Validation shapes - {validation_set.shape}')\n",
    "    return train_set, validation_set"
   ]
  },
  {
   "cell_type": "code",
   "execution_count": 5,
   "metadata": {},
   "outputs": [
    {
     "name": "stdout",
     "output_type": "stream",
     "text": [
      "Input shapes - (6666, 6)\n",
      "Train shapes - (6666, 6)\n",
      "Validation shapes - (1333, 6)\n"
     ]
    }
   ],
   "source": [
    "train_set, validation_set = split_dataset(\n",
    "    DATA[~DATA['IsAllMissing']],\n",
    "    how='sample'\n",
    ")"
   ]
  },
  {
   "cell_type": "code",
   "execution_count": 6,
   "metadata": {},
   "outputs": [
    {
     "data": {
      "text/html": [
       "<div>\n",
       "<style scoped>\n",
       "    .dataframe tbody tr th:only-of-type {\n",
       "        vertical-align: middle;\n",
       "    }\n",
       "\n",
       "    .dataframe tbody tr th {\n",
       "        vertical-align: top;\n",
       "    }\n",
       "\n",
       "    .dataframe thead th {\n",
       "        text-align: right;\n",
       "    }\n",
       "</style>\n",
       "<table border=\"1\" class=\"dataframe\">\n",
       "  <thead>\n",
       "    <tr style=\"text-align: right;\">\n",
       "      <th></th>\n",
       "      <th>Image</th>\n",
       "      <th>cls1</th>\n",
       "      <th>cls2</th>\n",
       "      <th>cls3</th>\n",
       "      <th>cls4</th>\n",
       "    </tr>\n",
       "  </thead>\n",
       "  <tbody>\n",
       "    <tr>\n",
       "      <th>0</th>\n",
       "      <td>/home/dmdr/Documents/Code/Python/kaggle/severs...</td>\n",
       "      <td>29102 12 29346 24 29602 24 29858 24 30114 24 3...</td>\n",
       "      <td>NaN</td>\n",
       "      <td>NaN</td>\n",
       "      <td>NaN</td>\n",
       "    </tr>\n",
       "    <tr>\n",
       "      <th>4</th>\n",
       "      <td>/home/dmdr/Documents/Code/Python/kaggle/severs...</td>\n",
       "      <td>NaN</td>\n",
       "      <td>NaN</td>\n",
       "      <td>18661 28 18863 82 19091 110 19347 110 19603 11...</td>\n",
       "      <td>NaN</td>\n",
       "    </tr>\n",
       "    <tr>\n",
       "      <th>5</th>\n",
       "      <td>/home/dmdr/Documents/Code/Python/kaggle/severs...</td>\n",
       "      <td>37607 3 37858 8 38108 14 38359 20 38610 25 388...</td>\n",
       "      <td>NaN</td>\n",
       "      <td>NaN</td>\n",
       "      <td>NaN</td>\n",
       "    </tr>\n",
       "    <tr>\n",
       "      <th>6</th>\n",
       "      <td>/home/dmdr/Documents/Code/Python/kaggle/severs...</td>\n",
       "      <td>NaN</td>\n",
       "      <td>NaN</td>\n",
       "      <td>NaN</td>\n",
       "      <td>131973 1 132228 4 132483 6 132738 8 132993 11 ...</td>\n",
       "    </tr>\n",
       "    <tr>\n",
       "      <th>7</th>\n",
       "      <td>/home/dmdr/Documents/Code/Python/kaggle/severs...</td>\n",
       "      <td>NaN</td>\n",
       "      <td>NaN</td>\n",
       "      <td>229501 11 229741 33 229981 55 230221 77 230468...</td>\n",
       "      <td>NaN</td>\n",
       "    </tr>\n",
       "  </tbody>\n",
       "</table>\n",
       "</div>"
      ],
      "text/plain": [
       "                                               Image  \\\n",
       "0  /home/dmdr/Documents/Code/Python/kaggle/severs...   \n",
       "4  /home/dmdr/Documents/Code/Python/kaggle/severs...   \n",
       "5  /home/dmdr/Documents/Code/Python/kaggle/severs...   \n",
       "6  /home/dmdr/Documents/Code/Python/kaggle/severs...   \n",
       "7  /home/dmdr/Documents/Code/Python/kaggle/severs...   \n",
       "\n",
       "                                                cls1 cls2  \\\n",
       "0  29102 12 29346 24 29602 24 29858 24 30114 24 3...  NaN   \n",
       "4                                                NaN  NaN   \n",
       "5  37607 3 37858 8 38108 14 38359 20 38610 25 388...  NaN   \n",
       "6                                                NaN  NaN   \n",
       "7                                                NaN  NaN   \n",
       "\n",
       "                                                cls3  \\\n",
       "0                                                NaN   \n",
       "4  18661 28 18863 82 19091 110 19347 110 19603 11...   \n",
       "5                                                NaN   \n",
       "6                                                NaN   \n",
       "7  229501 11 229741 33 229981 55 230221 77 230468...   \n",
       "\n",
       "                                                cls4  \n",
       "0                                                NaN  \n",
       "4                                                NaN  \n",
       "5                                                NaN  \n",
       "6  131973 1 132228 4 132483 6 132738 8 132993 11 ...  \n",
       "7                                                NaN  "
      ]
     },
     "execution_count": 6,
     "metadata": {},
     "output_type": "execute_result"
    }
   ],
   "source": [
    "cols = ['Image'] + [f'cls{i}' for i in range(1, 5)]\n",
    "\n",
    "train_set = train_set[cols]\n",
    "validation_set = validation_set[cols]\n",
    "\n",
    "train_set.head()"
   ]
  },
  {
   "cell_type": "markdown",
   "metadata": {},
   "source": [
    "## Dump"
   ]
  },
  {
   "cell_type": "code",
   "execution_count": 7,
   "metadata": {},
   "outputs": [],
   "source": [
    "csvs_folder = Path('..') / 'data' / 'splits'"
   ]
  },
  {
   "cell_type": "code",
   "execution_count": 8,
   "metadata": {},
   "outputs": [],
   "source": [
    "train_set.to_csv(csvs_folder / 'train_set.csv', index=False)\n",
    "validation_set.to_csv(csvs_folder / 'validation_set.csv', index=False)"
   ]
  },
  {
   "cell_type": "markdown",
   "metadata": {},
   "source": [
    "# Classification"
   ]
  },
  {
   "cell_type": "code",
   "execution_count": 9,
   "metadata": {},
   "outputs": [
    {
     "name": "stdout",
     "output_type": "stream",
     "text": [
      "Input shapes - (12568, 6)\n",
      "Train shapes - (10054, 6)\n",
      "Validation shapes - (2514, 6)\n"
     ]
    }
   ],
   "source": [
    "train_set, validation_set = split_dataset(DATA, how='split')"
   ]
  },
  {
   "cell_type": "code",
   "execution_count": 10,
   "metadata": {},
   "outputs": [
    {
     "data": {
      "text/html": [
       "<div>\n",
       "<style scoped>\n",
       "    .dataframe tbody tr th:only-of-type {\n",
       "        vertical-align: middle;\n",
       "    }\n",
       "\n",
       "    .dataframe tbody tr th {\n",
       "        vertical-align: top;\n",
       "    }\n",
       "\n",
       "    .dataframe thead th {\n",
       "        text-align: right;\n",
       "    }\n",
       "</style>\n",
       "<table border=\"1\" class=\"dataframe\">\n",
       "  <thead>\n",
       "    <tr style=\"text-align: right;\">\n",
       "      <th></th>\n",
       "      <th>Image</th>\n",
       "      <th>IsAllMissing</th>\n",
       "    </tr>\n",
       "  </thead>\n",
       "  <tbody>\n",
       "    <tr>\n",
       "      <th>1510</th>\n",
       "      <td>/home/dmdr/Documents/Code/Python/kaggle/severs...</td>\n",
       "      <td>1</td>\n",
       "    </tr>\n",
       "    <tr>\n",
       "      <th>5375</th>\n",
       "      <td>/home/dmdr/Documents/Code/Python/kaggle/severs...</td>\n",
       "      <td>0</td>\n",
       "    </tr>\n",
       "    <tr>\n",
       "      <th>5047</th>\n",
       "      <td>/home/dmdr/Documents/Code/Python/kaggle/severs...</td>\n",
       "      <td>1</td>\n",
       "    </tr>\n",
       "    <tr>\n",
       "      <th>9021</th>\n",
       "      <td>/home/dmdr/Documents/Code/Python/kaggle/severs...</td>\n",
       "      <td>1</td>\n",
       "    </tr>\n",
       "    <tr>\n",
       "      <th>12342</th>\n",
       "      <td>/home/dmdr/Documents/Code/Python/kaggle/severs...</td>\n",
       "      <td>0</td>\n",
       "    </tr>\n",
       "  </tbody>\n",
       "</table>\n",
       "</div>"
      ],
      "text/plain": [
       "                                                   Image  IsAllMissing\n",
       "1510   /home/dmdr/Documents/Code/Python/kaggle/severs...             1\n",
       "5375   /home/dmdr/Documents/Code/Python/kaggle/severs...             0\n",
       "5047   /home/dmdr/Documents/Code/Python/kaggle/severs...             1\n",
       "9021   /home/dmdr/Documents/Code/Python/kaggle/severs...             1\n",
       "12342  /home/dmdr/Documents/Code/Python/kaggle/severs...             0"
      ]
     },
     "execution_count": 10,
     "metadata": {},
     "output_type": "execute_result"
    }
   ],
   "source": [
    "cols = ['Image', 'IsAllMissing']\n",
    "\n",
    "train_set = train_set[cols]\n",
    "train_set['IsAllMissing'] = train_set['IsAllMissing'].astype(int)\n",
    "\n",
    "validation_set = validation_set[cols]\n",
    "validation_set['IsAllMissing'] = validation_set['IsAllMissing'].astype(int)\n",
    "\n",
    "train_set.head()"
   ]
  },
  {
   "cell_type": "markdown",
   "metadata": {},
   "source": [
    "## Dump"
   ]
  },
  {
   "cell_type": "code",
   "execution_count": 11,
   "metadata": {},
   "outputs": [],
   "source": [
    "train_set.to_csv(csvs_folder / 'classification_train_set.csv', index=False)\n",
    "validation_set.to_csv(csvs_folder / 'classification_validation_set.csv', index=False)"
   ]
  },
  {
   "cell_type": "code",
   "execution_count": null,
   "metadata": {},
   "outputs": [],
   "source": []
  }
 ],
 "metadata": {
  "kernelspec": {
   "display_name": "Python 3",
   "language": "python",
   "name": "python3"
  },
  "language_info": {
   "codemirror_mode": {
    "name": "ipython",
    "version": 3
   },
   "file_extension": ".py",
   "mimetype": "text/x-python",
   "name": "python",
   "nbconvert_exporter": "python",
   "pygments_lexer": "ipython3",
   "version": "3.7.3"
  }
 },
 "nbformat": 4,
 "nbformat_minor": 4
}
